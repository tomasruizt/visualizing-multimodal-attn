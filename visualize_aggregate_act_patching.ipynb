{
 "cells": [
  {
   "cell_type": "code",
   "execution_count": null,
   "metadata": {},
   "outputs": [],
   "source": [
    "%load_ext autoreload\n",
    "%autoreload 2\n",
    "\n",
    "from pathlib import Path\n",
    "from getAttentionLib import load_and_group_logit_diffs, plot_pooled_probs_plt"
   ]
  },
  {
   "cell_type": "code",
   "execution_count": null,
   "metadata": {},
   "outputs": [],
   "source": [
    "n_img_tokens = 256\n",
    "\n",
    "methods = [\"gn\", \"str\"]\n",
    "for method in methods:\n",
    "    for reduction in [\"mean\", \"absmax\", \"max\"]:\n",
    "        is_gaussian_noising = method == \"gn\"\n",
    "        root = Path(f\"vqa_patching/{method}/\")\n",
    "        grouped_logit_diffs = load_and_group_logit_diffs(\n",
    "            root=root,\n",
    "            is_gaussian_noising=is_gaussian_noising,\n",
    "            n_img_tokens=n_img_tokens,\n",
    "            reduction=reduction,\n",
    "        )\n",
    "        fig = plot_pooled_probs_plt(\n",
    "            pooled_probs=grouped_logit_diffs.mean(dim=0).T,  # mean across samples\n",
    "            inputs_tokens=[\"img tokens\", \"bos token\", \"text tokens\", \"final token\"],\n",
    "            cbar_label=\"Logit Diff\",\n",
    "            # cmax=(cmax := clustered_logit_diffs.abs().max()),\n",
    "            # cmin=-cmax,\n",
    "            cmap=\"RdBu\",\n",
    "            n_img_tokens=1,\n",
    "            figsize=(6, 2),\n",
    "            cmax=(cmax := 1),\n",
    "            cmin=-cmax,\n",
    "            fraction=0.02,\n",
    "        )\n",
    "        print(f\"showing {method} {reduction}\")\n",
    "        # fig.show()\n",
    "        fig.savefig(f\"imgs/vqa_patching/{method}_{reduction}_aggregate_logit_diffs.png\")\n",
    "        fig.clear()\n",
    "# fig.savefig(\"imgs/vqa_patching/str_aggregate_logit_diffs.png\")"
   ]
  }
 ],
 "metadata": {
  "kernelspec": {
   "display_name": "venv",
   "language": "python",
   "name": "python3"
  },
  "language_info": {
   "codemirror_mode": {
    "name": "ipython",
    "version": 3
   },
   "file_extension": ".py",
   "mimetype": "text/x-python",
   "name": "python",
   "nbconvert_exporter": "python",
   "pygments_lexer": "ipython3",
   "version": "3.11.9"
  }
 },
 "nbformat": 4,
 "nbformat_minor": 2
}
