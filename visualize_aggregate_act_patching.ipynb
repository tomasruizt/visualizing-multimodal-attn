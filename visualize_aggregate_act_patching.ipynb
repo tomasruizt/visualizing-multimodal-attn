{
 "cells": [
  {
   "cell_type": "code",
   "execution_count": null,
   "metadata": {},
   "outputs": [],
   "source": [
    "%load_ext autoreload\n",
    "%autoreload 2\n",
    "\n",
    "import matplotlib.pyplot as plt\n",
    "import numpy as np\n",
    "import torch"
   ]
  },
  {
   "cell_type": "code",
   "execution_count": null,
   "metadata": {},
   "outputs": [],
   "source": [
    "import os\n",
    "from pathlib import Path\n",
    "\n",
    "from getAttentionLib import ActivationPatchingResult, cluster_logits_diffs\n",
    "\n",
    "root = Path(\"vqa_patching\")\n",
    "n_img_tokens = 256\n",
    "clustered_logit_diffs = []\n",
    "for p in [root / p for p in os.listdir(root)]:\n",
    "    pr = ActivationPatchingResult.load(p)\n",
    "    cld = cluster_logits_diffs(pr.get_logit_diff(), n_img_tokens=n_img_tokens)\n",
    "    clustered_logit_diffs.append(cld)\n",
    "clustered_logit_diffs = torch.stack(clustered_logit_diffs)\n",
    "clustered_logit_diffs.shape"
   ]
  },
  {
   "cell_type": "code",
   "execution_count": null,
   "metadata": {},
   "outputs": [],
   "source": [
    "from getAttentionLib import plot_img_and_text_probs_side_by_side, plot_pooled_probs_plt\n",
    "\n",
    "\n",
    "fig = plot_pooled_probs_plt(\n",
    "    pooled_probs=clustered_logit_diffs.mean(dim=0).T,\n",
    "    inputs_tokens=[\"img tokens\", \"bos token\", \"text tokens\", \"final token\"],\n",
    "    cbar_label=\"Logit Diff\",\n",
    "    # cmax=(cmax := clustered_logit_diffs.abs().max()),\n",
    "    # cmin=-cmax,\n",
    "    cmap=\"RdBu\",\n",
    "    n_img_tokens=1,\n",
    "    figsize=(6, 3),\n",
    "    cmin=-0.7,\n",
    "    cmax=0.7,\n",
    "    fraction=0.1,\n",
    "    aspect=3\n",
    ")\n",
    "fig.tight_layout()\n",
    "# fig.savefig(\"imgs/vqa_patching/aggregate_logit_diffs.png\")"
   ]
  }
 ],
 "metadata": {
  "kernelspec": {
   "display_name": "venv",
   "language": "python",
   "name": "python3"
  },
  "language_info": {
   "codemirror_mode": {
    "name": "ipython",
    "version": 3
   },
   "file_extension": ".py",
   "mimetype": "text/x-python",
   "name": "python",
   "nbconvert_exporter": "python",
   "pygments_lexer": "ipython3",
   "version": "3.11.9"
  }
 },
 "nbformat": 4,
 "nbformat_minor": 2
}
