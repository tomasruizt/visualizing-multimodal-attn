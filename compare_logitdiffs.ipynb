{
 "cells": [
  {
   "cell_type": "code",
   "execution_count": null,
   "metadata": {},
   "outputs": [],
   "source": [
    "%load_ext autoreload\n",
    "%autoreload 2"
   ]
  },
  {
   "cell_type": "code",
   "execution_count": 2,
   "metadata": {},
   "outputs": [],
   "source": [
    "import os\n",
    "from pathlib import Path\n",
    "\n",
    "import torch\n",
    "from getAttentionLib import ActivationPatchingResult\n",
    "\n",
    "\n",
    "def load_healthy_tok_logit_diffs(\n",
    "    root: str | Path, is_gaussian_noising: bool\n",
    ") -> torch.Tensor:\n",
    "    root = Path(root)\n",
    "    dirs = [root / d for d in os.listdir(root)]\n",
    "    logit_diffs = torch.zeros(len(dirs))\n",
    "    for i, dir in enumerate(dirs):\n",
    "        pr = ActivationPatchingResult.load(dir)\n",
    "        if is_gaussian_noising:\n",
    "            logit_diffs[i] = pr.logit_diff_denominator_gn()\n",
    "        else:\n",
    "            logit_diffs[i] = pr.logit_diff_denominator_str()\n",
    "    return logit_diffs"
   ]
  },
  {
   "cell_type": "code",
   "execution_count": null,
   "metadata": {},
   "outputs": [],
   "source": [
    "from matplotlib import pyplot as plt\n",
    "import seaborn as sns\n",
    "\n",
    "# folders = [\"str\", \"gn_3o\", \"gn\", \"gn_20o\", \"gn_30o\"]\n",
    "folder2label = dict(\n",
    "    str=\"Image Replacement\",\n",
    "    gn_03o=\"Image Noising 3$\\sigma$\",\n",
    "    gn_10o=\"Image Noising 10$\\sigma$\",\n",
    "    gn_20o=\"Image Noising 20$\\sigma$\",\n",
    "    gn_30o=\"Image Noising 30$\\sigma$\",\n",
    ")\n",
    "fig, axes = plt.subplots(len(folder2label), 1, figsize=(4, 6), sharex=True)\n",
    "\n",
    "\n",
    "# Second pass to create the actual plots with equal y-axis\n",
    "for i, (folder, label) in enumerate(folder2label.items()):\n",
    "    root = \"./vqa_patching/\" + folder + \"/\"\n",
    "    ht_lds = load_healthy_tok_logit_diffs(root, is_gaussian_noising=folder != \"str\")\n",
    "    print(len(ht_lds))\n",
    "    sns.histplot(\n",
    "        ht_lds, label=label, bins=10, alpha=0.6, ax=axes[i], kde=True, stat=\"density\"\n",
    "    )\n",
    "    axes[i].legend()\n",
    "    axes[i].set_ylim(0, 0.6)\n",
    "    axes[i].axvline(x=ht_lds.mean(), color=\"navy\", linestyle=\"--\", alpha=0.7)\n",
    "    axes[i].axvline(\n",
    "        x=0, color=\"red\", linestyle=\"--\", alpha=0.7\n",
    "    )  # Add vertical line at x=0\n",
    "    axes[i].grid(alpha=0.5)\n",
    "    axes[i].tick_params(\n",
    "        axis=\"x\", which=\"both\", bottom=True, labelbottom=True\n",
    "    )  # Show x-ticks on every plot\n",
    "\n",
    "plt.tight_layout()\n",
    "plt.legend()\n",
    "plt.show()\n",
    "# fig.savefig(\"logitdiffs_histograms.png\", dpi=300)\n"
   ]
  }
 ],
 "metadata": {
  "kernelspec": {
   "display_name": "venv",
   "language": "python",
   "name": "python3"
  },
  "language_info": {
   "codemirror_mode": {
    "name": "ipython",
    "version": 3
   },
   "file_extension": ".py",
   "mimetype": "text/x-python",
   "name": "python",
   "nbconvert_exporter": "python",
   "pygments_lexer": "ipython3",
   "version": "3.11.9"
  }
 },
 "nbformat": 4,
 "nbformat_minor": 2
}
