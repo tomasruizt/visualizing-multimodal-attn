{
 "cells": [
  {
   "cell_type": "code",
   "execution_count": 1,
   "metadata": {},
   "outputs": [],
   "source": [
    "%load_ext autoreload\n",
    "%autoreload 2"
   ]
  },
  {
   "cell_type": "code",
   "execution_count": 2,
   "metadata": {},
   "outputs": [],
   "source": [
    "import os\n",
    "from pathlib import Path\n",
    "\n",
    "import torch\n",
    "from getAttentionLib import ActivationPatchingResult\n",
    "\n",
    "\n",
    "def load_healthy_tok_logit_diffs(\n",
    "    root: str | Path, is_gaussian_noising: bool\n",
    ") -> torch.Tensor:\n",
    "    root = Path(root)\n",
    "    dirs = [root / d for d in os.listdir(root)]\n",
    "    logit_diffs = torch.zeros(len(dirs))\n",
    "    for i, dir in enumerate(dirs):\n",
    "        pr = ActivationPatchingResult.load(dir)\n",
    "        if is_gaussian_noising:\n",
    "            logit_diffs[i] = pr.logit_diff_denominator_gn()\n",
    "        else:\n",
    "            logit_diffs[i] = pr.logit_diff_denominator_str()\n",
    "    return logit_diffs"
   ]
  },
  {
   "cell_type": "code",
   "execution_count": 9,
   "metadata": {},
   "outputs": [],
   "source": [
    "from matplotlib import pyplot as plt\n",
    "import seaborn as sns\n",
    "\n",
    "# folders = [\"str\", \"gn_3o\", \"gn\", \"gn_20o\", \"gn_30o\"]\n",
    "folder2label = dict(\n",
    "    str=\"Image Replacement\",\n",
    "    gn_03o=\"Image Noising 3$\\\\nu$\",\n",
    "    # gn_10o=\"Image Noising 10$\\\\nu$\",\n",
    "    # gn_20o=\"Image Noising 20$\\\\nu$\",\n",
    "    gn_30o=\"Image Noising 30$\\\\nu$\",\n",
    ")\n",
    "listof_ht_lds = []\n",
    "for folder in folder2label.keys():\n",
    "    root = \"./vqa_patching/\" + folder + \"/\"\n",
    "    listof_ht_lds.append(\n",
    "        load_healthy_tok_logit_diffs(root, is_gaussian_noising=root != \"str\")\n",
    "    )"
   ]
  },
  {
   "cell_type": "code",
   "execution_count": null,
   "metadata": {},
   "outputs": [],
   "source": [
    "fig, axes = plt.subplots(len(folder2label), 1, figsize=(4, 6/5 * len(folder2label)), sharex=True)\n",
    "\n",
    "# Second pass to create the actual plots with equal y-axis\n",
    "for i, ((folder, label), ht_lds) in enumerate(zip(folder2label.items(), listof_ht_lds)):\n",
    "    print(len(ht_lds))\n",
    "    print((ht_lds <= 0).to(torch.float32).mean())\n",
    "    sns.histplot(\n",
    "        ht_lds, label=label, bins=10, alpha=0.6, ax=axes[i], kde=True, stat=\"density\"\n",
    "    )\n",
    "    axes[i].legend()\n",
    "    axes[i].set_ylim(0, 0.6)\n",
    "    axes[i].axvline(x=ht_lds.mean(), color=\"navy\", linestyle=\"--\", alpha=0.7)\n",
    "    axes[i].axvline(\n",
    "        x=0, color=\"red\", linestyle=\"--\", alpha=0.7\n",
    "    )  # Add vertical line at x=0\n",
    "    axes[i].grid(alpha=0.5)\n",
    "    axes[i].tick_params(\n",
    "        axis=\"x\", which=\"both\", bottom=True, labelbottom=True\n",
    "    )  # Show x-ticks on every plot\n",
    "\n",
    "plt.tight_layout()\n",
    "plt.legend()\n",
    "plt.show()\n",
    "fig.savefig(\"imgs/vqa_patching/logitdiffs_denominator_histograms.png\", dpi=300)\n"
   ]
  }
 ],
 "metadata": {
  "kernelspec": {
   "display_name": "venv",
   "language": "python",
   "name": "python3"
  },
  "language_info": {
   "codemirror_mode": {
    "name": "ipython",
    "version": 3
   },
   "file_extension": ".py",
   "mimetype": "text/x-python",
   "name": "python",
   "nbconvert_exporter": "python",
   "pygments_lexer": "ipython3",
   "version": "3.11.9"
  }
 },
 "nbformat": 4,
 "nbformat_minor": 2
}
