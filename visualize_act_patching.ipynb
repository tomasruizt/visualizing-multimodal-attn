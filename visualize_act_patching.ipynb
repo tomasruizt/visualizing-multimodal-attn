{
 "cells": [
  {
   "cell_type": "code",
   "execution_count": null,
   "metadata": {},
   "outputs": [],
   "source": [
    "%load_ext autoreload\n",
    "%autoreload 2\n",
    "\n",
    "from getAttentionLib import ActivationPatchingResult\n",
    "from getAttentionLib import plot_img_and_text_probs_side_by_side\n",
    "from getAttentionLib import load_vqa_samples, unique_vqa_imgs\n",
    "from getAttentionLib import load_pg2_model_and_processor\n",
    "\n",
    "pr = ActivationPatchingResult.load(\"vqa_patching/003\")\n",
    "ds = {row[\"image_id\"]: row for row in unique_vqa_imgs(n_vqa_samples=10)}"
   ]
  },
  {
   "cell_type": "code",
   "execution_count": 14,
   "metadata": {},
   "outputs": [],
   "source": [
    "# pr.metadata"
   ]
  },
  {
   "cell_type": "code",
   "execution_count": null,
   "metadata": {},
   "outputs": [],
   "source": [
    "from matplotlib import pyplot as plt\n",
    "\n",
    "hvqa_row = ds[pr.metadata[\"healthy_img_alias\"]]\n",
    "uvqa_row = ds[pr.metadata[\"corruption_img_alias\"]]\n",
    "print(hvqa_row[\"question\"])\n",
    "fig, axes = plt.subplots(1, 2, figsize=(12, 6))\n",
    "axes[0].imshow(hvqa_row[\"image\"])\n",
    "axes[0].set_title(\"Healthy Image\")\n",
    "axes[0].axis(\"off\")\n",
    "axes[1].imshow(uvqa_row[\"image\"])\n",
    "axes[1].set_title(\"Unhealthy Image\")\n",
    "axes[1].axis(\"off\")\n",
    "plt.tight_layout()\n",
    "plt.show()"
   ]
  },
  {
   "cell_type": "code",
   "execution_count": null,
   "metadata": {},
   "outputs": [],
   "source": [
    "n_img_tokens = 256\n",
    "token_strings = pr.metadata[\"token_strings\"]\n",
    "plot_img_and_text_probs_side_by_side(\n",
    "    probs=pr.healthy_tok_response_probs,\n",
    "    n_img_tokens=n_img_tokens,\n",
    "    token_strings=token_strings,\n",
    "    token_str=pr.metadata[\"healthy_response_tok\"],\n",
    ").show()"
   ]
  },
  {
   "cell_type": "code",
   "execution_count": null,
   "metadata": {},
   "outputs": [],
   "source": [
    "plot_img_and_text_probs_side_by_side(\n",
    "    probs=pr.unhealthy_tok_response_probs,\n",
    "    n_img_tokens=n_img_tokens,\n",
    "    token_strings=token_strings,\n",
    "    token_str=pr.metadata[\"unhealthy_response_tok\"],\n",
    ").show()"
   ]
  },
  {
   "cell_type": "code",
   "execution_count": 18,
   "metadata": {},
   "outputs": [],
   "source": [
    "unhealthy_logit_diff = (\n",
    "    pr.metadata[\"unhealthy_run_healthy_tok_logit\"]\n",
    "    - pr.metadata[\"unhealthy_run_unhealthy_tok_logit\"]\n",
    ")\n",
    "patched_logit_diff = pr.healthy_tok_response_logits - pr.unhealthy_tok_response_logits"
   ]
  },
  {
   "cell_type": "code",
   "execution_count": null,
   "metadata": {},
   "outputs": [],
   "source": [
    "logit_diff = patched_logit_diff - unhealthy_logit_diff\n",
    "plot_img_and_text_probs_side_by_side(\n",
    "    logit_diff,\n",
    "    n_img_tokens=n_img_tokens,\n",
    "    token_strings=token_strings,\n",
    "    token_str=pr.metadata[\"healthy_response_tok\"],\n",
    "    is_probabilities=False,\n",
    ").show()"
   ]
  }
 ],
 "metadata": {
  "kernelspec": {
   "display_name": "venv",
   "language": "python",
   "name": "python3"
  },
  "language_info": {
   "codemirror_mode": {
    "name": "ipython",
    "version": 3
   },
   "file_extension": ".py",
   "mimetype": "text/x-python",
   "name": "python",
   "nbconvert_exporter": "python",
   "pygments_lexer": "ipython3",
   "version": "3.11.9"
  }
 },
 "nbformat": 4,
 "nbformat_minor": 2
}
