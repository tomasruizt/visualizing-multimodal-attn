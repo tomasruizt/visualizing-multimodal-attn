{
 "cells": [
  {
   "cell_type": "code",
   "execution_count": null,
   "metadata": {},
   "outputs": [],
   "source": [
    "%load_ext autoreload\n",
    "%autoreload 2\n",
    "\n",
    "from getAttentionLib import ActivationPatchingResult, load_vqa_ds, plot_squared_imgs\n",
    "from getAttentionLib import plot_img_and_text_probs_side_by_side\n",
    "from getAttentionLib import load_vqa_samples, unique_vqa_imgs\n",
    "from getAttentionLib import load_pg2_model_and_processor\n",
    "import pandas as pd\n",
    "import matplotlib.pyplot as plt\n",
    "\n",
    "is_gaussian_noising = True\n",
    "pr = ActivationPatchingResult.load(\"vqa_patching/str/008\")\n",
    "dataset = load_vqa_ds(split=\"train\")\n",
    "img_ids = pd.Series(dataset[\"image_id\"])"
   ]
  },
  {
   "cell_type": "code",
   "execution_count": null,
   "metadata": {},
   "outputs": [],
   "source": [
    "print(\n",
    "    (\n",
    "        pr.metadata[\"prompt\"],\n",
    "        pr.metadata[\"healthy_response_tok\"],\n",
    "        pr.metadata[\"unhealthy_response_tok\"],\n",
    "    )\n",
    ")\n",
    "if pr.metadata[\"corruption_img_alias\"] is not None:\n",
    "    rows = dataset.select(\n",
    "        [\n",
    "            img_ids[img_ids == pr.metadata[\"healthy_img_alias\"]].index.values[0],\n",
    "            img_ids[img_ids == pr.metadata[\"corruption_img_alias\"]].index.values[0],\n",
    "        ]\n",
    "    )\n",
    "    hvqa_row = rows[0]\n",
    "    uvqa_row = rows[1]\n",
    "    plot_squared_imgs(hvqa_row[\"image\"], uvqa_row[\"image\"]).show()\n",
    "else:\n",
    "    row = dataset.select(\n",
    "        [img_ids[img_ids == pr.metadata[\"healthy_img_alias\"]].index.values[0]]\n",
    "    )[0]\n",
    "    plt.imshow(row[\"image\"])"
   ]
  },
  {
   "cell_type": "markdown",
   "metadata": {},
   "source": [
    "\n",
    "plot_img_and_text_probs_side_by_side(\n",
    "    probs=pr.healthy_tok_response_probs,\n",
    "    n_img_tokens=n_img_tokens,\n",
    "    token_strings=token_strings,\n",
    "    token_str=pr.metadata[\"healthy_response_tok\"],\n",
    ").show()"
   ]
  },
  {
   "cell_type": "markdown",
   "metadata": {},
   "source": [
    "plot_img_and_text_probs_side_by_side(\n",
    "    probs=pr.unhealthy_tok_response_probs,\n",
    "    n_img_tokens=n_img_tokens,\n",
    "    token_strings=token_strings,\n",
    "    token_str=pr.metadata[\"unhealthy_response_tok\"],\n",
    ").show()"
   ]
  },
  {
   "cell_type": "code",
   "execution_count": null,
   "metadata": {},
   "outputs": [],
   "source": [
    "n_img_tokens = 256\n",
    "token_strings = pr.metadata[\"token_strings\"]\n",
    "logit_diff = pr.get_logit_diff_gn() if is_gaussian_noising else pr.get_logit_diff()\n",
    "plot_img_and_text_probs_side_by_side(\n",
    "    logit_diff,\n",
    "    n_img_tokens=n_img_tokens,\n",
    "    token_strings=token_strings,\n",
    "    token_str=pr.metadata[\"healthy_response_tok\"],\n",
    "    is_probabilities=False,\n",
    ").show()"
   ]
  },
  {
   "cell_type": "markdown",
   "metadata": {},
   "source": [
    "import os\n",
    "from pathlib import Path\n",
    "from getAttentionLib import dump_activation_patching_for_sample\n",
    "\n",
    "\n",
    "root = Path(\"vqa_patching\")\n",
    "for dirname in os.listdir(root):\n",
    "    pr = ActivationPatchingResult.load(root / dirname)\n",
    "    dump_activation_patching_for_sample(\n",
    "        pr=pr,\n",
    "        dataset=dataset,\n",
    "        n_img_tokens=n_img_tokens,\n",
    "        tgt_dir=f\"imgs/vqa_patching/cases/{dirname}\"\n",
    "    )\n"
   ]
  },
  {
   "cell_type": "markdown",
   "metadata": {},
   "source": [
    "# Interesting cases:\n",
    "* IN 005. Question=the man smiling? healthy_img=man not smiling, unhealthy_img=2 men with bear. The stronges restoration besides the last layer&token is the \"smiling\" token in intermediate layer.\n",
    "Mind that the question has not changed, only its internal representation changed, meaning that the models is accumulating image information in the text tokens.\n",
    "* A similar thing happens in 000: the text token \"thorugh\" restores partially the clean response. The image tokens play role here as well.\n",
    "* in image 008 we can also see the token \"jacket\" being restorative\n",
    "* In image 020, there are counter-intuitive negative effects on restoring the clean response for th \"umbrella\" token. The model becomes more confident in the wrong answer (white) rather than in the correct one (pink). Same in image 021."
   ]
  },
  {
   "cell_type": "markdown",
   "metadata": {},
   "source": [
    "In the paired VQAv2 images:\n",
    "* In 024 we see a strong negative activation for the \"tree\" token"
   ]
  },
  {
   "cell_type": "markdown",
   "metadata": {},
   "source": [
    "self = pr\n",
    "unhealthy_logit_diff = (\n",
    "    self.metadata[\"unhealthy_run_healthy_tok_logit\"]\n",
    "    - self.metadata[\"unhealthy_run_unhealthy_tok_logit\"]\n",
    ")\n",
    "patched_logit_diff = (\n",
    "    self.healthy_tok_response_logits - self.unhealthy_tok_response_logits\n",
    ")\n",
    "healthy_logit_diff = (\n",
    "    self.metadata[\"healthy_run_healthy_tok_logit\"]\n",
    "    - self.metadata[\"healthy_run_unhealthy_tok_logit\"]\n",
    ")\n",
    "normalized = (patched_logit_diff - unhealthy_logit_diff) / (\n",
    "    healthy_logit_diff - unhealthy_logit_diff\n",
    ")"
   ]
  },
  {
   "cell_type": "markdown",
   "metadata": {},
   "source": [
    "layer_idx = 10\n",
    "token_idx = -3\n",
    "(\n",
    "    healthy_logit_diff,\n",
    "    unhealthy_logit_diff,\n",
    "    patched_logit_diff[layer_idx, token_idx],\n",
    "    self.healthy_tok_response_logits[layer_idx, token_idx],\n",
    "    self.unhealthy_tok_response_logits[layer_idx, token_idx],\n",
    "    normalized[layer_idx, token_idx],\n",
    ")"
   ]
  }
 ],
 "metadata": {
  "kernelspec": {
   "display_name": "venv",
   "language": "python",
   "name": "python3"
  },
  "language_info": {
   "codemirror_mode": {
    "name": "ipython",
    "version": 3
   },
   "file_extension": ".py",
   "mimetype": "text/x-python",
   "name": "python",
   "nbconvert_exporter": "python",
   "pygments_lexer": "ipython3",
   "version": "3.11.9"
  }
 },
 "nbformat": 4,
 "nbformat_minor": 2
}
