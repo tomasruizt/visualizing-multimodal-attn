{
 "cells": [
  {
   "cell_type": "code",
   "execution_count": 1,
   "metadata": {},
   "outputs": [],
   "source": [
    "%load_ext autoreload\n",
    "%autoreload 2\n",
    "\n",
    "from getAttentionLib import ActivationPatchingResult\n",
    "\n",
    "pr = ActivationPatchingResult.load(\"rev_frisbee_pr/\")"
   ]
  },
  {
   "cell_type": "code",
   "execution_count": 2,
   "metadata": {},
   "outputs": [],
   "source": [
    "from transformers import PaliGemmaProcessor\n",
    "\n",
    "model_id = \"google/paligemma2-3b-pt-224\"\n",
    "processor = PaliGemmaProcessor.from_pretrained(model_id)"
   ]
  },
  {
   "cell_type": "code",
   "execution_count": 3,
   "metadata": {},
   "outputs": [],
   "source": [
    "from PIL import Image\n",
    "\n",
    "image = Image.open(pr.metadata[\"healthy_img_alias\"])\n",
    "inputs = processor(text=pr.metadata[\"prompt\"], images=image, return_tensors=\"pt\")\n",
    "token_strings = processor.tokenizer.convert_ids_to_tokens(inputs.input_ids[0])"
   ]
  },
  {
   "cell_type": "code",
   "execution_count": null,
   "metadata": {},
   "outputs": [],
   "source": [
    "pr.metadata"
   ]
  },
  {
   "cell_type": "code",
   "execution_count": null,
   "metadata": {},
   "outputs": [],
   "source": [
    "from getAttentionLib import plot_img_and_text_probs_side_by_side\n",
    "\n",
    "\n",
    "n_img_tokens = 256\n",
    "plot_img_and_text_probs_side_by_side(\n",
    "    probs=pr.unhealthy_tok_response_probs,\n",
    "    n_img_tokens=n_img_tokens,\n",
    "    token_strings=token_strings,\n",
    "    token_str=pr.metadata[\"unhealthy_response_tok\"],\n",
    ").show()"
   ]
  },
  {
   "cell_type": "code",
   "execution_count": null,
   "metadata": {},
   "outputs": [],
   "source": [
    "plot_img_and_text_probs_side_by_side(\n",
    "    probs=pr.healthy_tok_response_probs,\n",
    "    n_img_tokens=n_img_tokens,\n",
    "    token_strings=token_strings,\n",
    "    token_str=pr.metadata[\"healthy_response_tok\"],\n",
    ").show()"
   ]
  }
 ],
 "metadata": {
  "kernelspec": {
   "display_name": "venv",
   "language": "python",
   "name": "python3"
  },
  "language_info": {
   "codemirror_mode": {
    "name": "ipython",
    "version": 3
   },
   "file_extension": ".py",
   "mimetype": "text/x-python",
   "name": "python",
   "nbconvert_exporter": "python",
   "pygments_lexer": "ipython3",
   "version": "3.11.9"
  }
 },
 "nbformat": 4,
 "nbformat_minor": 2
}
