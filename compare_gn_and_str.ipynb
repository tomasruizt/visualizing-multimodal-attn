{
 "cells": [
  {
   "cell_type": "code",
   "execution_count": 1,
   "metadata": {},
   "outputs": [],
   "source": [
    "%load_ext autoreload\n",
    "%autoreload 2"
   ]
  },
  {
   "cell_type": "code",
   "execution_count": null,
   "metadata": {},
   "outputs": [],
   "source": [
    "from getAttentionLib import load_pg2_model_and_processor\n",
    "\n",
    "model, processor = load_pg2_model_and_processor(\n",
    "    compile=False, attn_implementation=\"eager\"\n",
    ")"
   ]
  },
  {
   "cell_type": "code",
   "execution_count": null,
   "metadata": {},
   "outputs": [],
   "source": [
    "from getAttentionLib import (\n",
    "    compute_mult_attn_sums_over_noisy_vqa,\n",
    "    compute_mult_attn_sums_over_vqa,\n",
    ")\n",
    "\n",
    "n_img_tokens = 256\n",
    "n_vqa_samples = 100  # 1000\n",
    "layers = list(range(26))\n",
    "vqa, _, _ = compute_mult_attn_sums_over_vqa(\n",
    "    model, processor, n_vqa_samples, layers, n_img_tokens, get_responses=False\n",
    ")"
   ]
  },
  {
   "cell_type": "code",
   "execution_count": null,
   "metadata": {},
   "outputs": [],
   "source": [
    "sigma = 0.0045\n",
    "alphas = [3, 10, 20, 30]\n",
    "nvqa_list = []\n",
    "for alpha in alphas:\n",
    "    nvqa = compute_mult_attn_sums_over_noisy_vqa(\n",
    "        model, processor, n_vqa_samples, layers, n_img_tokens, std=sigma * alpha\n",
    "    )\n",
    "    nvqa_list.append(nvqa)"
   ]
  },
  {
   "cell_type": "code",
   "execution_count": null,
   "metadata": {},
   "outputs": [],
   "source": [
    "vqa.shape, nvqa_list[0].shape"
   ]
  },
  {
   "cell_type": "code",
   "execution_count": null,
   "metadata": {},
   "outputs": [],
   "source": [
    "import torch\n",
    "\n",
    "def compute_kl(vqa: torch.Tensor, nvqa: torch.Tensor):\n",
    "    n_examples, n_layers = vqa.shape[:2]\n",
    "    kls = torch.zeros(n_examples, n_layers)\n",
    "    for i in range(n_examples):\n",
    "        for j in range(n_layers):\n",
    "            vqa_distr = vqa[i, j].flatten()\n",
    "            nvqa_distr = nvqa[i, j].flatten()\n",
    "            kl = torch.nn.functional.kl_div(input=torch.log(nvqa_distr), target=vqa_distr)\n",
    "            kls[i, j] = kl\n",
    "    return kls\n",
    "\n",
    "kls_list = [compute_kl(vqa, nvqa) for nvqa in nvqa_list]\n",
    "kls_list[0].shape"
   ]
  },
  {
   "cell_type": "code",
   "execution_count": null,
   "metadata": {},
   "outputs": [],
   "source": [
    "import matplotlib.pyplot as plt\n",
    "\n",
    "from getAttentionLib import plot_metric_with_std_over_layers\n",
    "\n",
    "fig = plt.figure(figsize=(5, 3))\n",
    "ax = fig.add_subplot(1, 1, 1)\n",
    "markers = [\"o\", \"s\", \"D\", \"P\"]\n",
    "for kls, alpha, marker in zip(kls_list, alphas, markers):\n",
    "    fig = plot_metric_with_std_over_layers(metric=kls, ylabel=\"KL(vqa || GN vqa)\", ax=ax, label=f\"$\\\\alpha = {alpha}$\", marker=marker)\n",
    "plt.grid(alpha=0.5)\n",
    "fig.show()\n",
    "    # fig.savefig(\"imgs/gn_vs_str_comparison/kls_over_layers.png\")"
   ]
  },
  {
   "cell_type": "code",
   "execution_count": null,
   "metadata": {},
   "outputs": [],
   "source": [
    "[kls[:, -1].mean() for kls in kls_list]"
   ]
  },
  {
   "cell_type": "code",
   "execution_count": null,
   "metadata": {},
   "outputs": [],
   "source": [
    "from getAttentionLib import (\n",
    "    compute_attn_sums,\n",
    "    compute_mult_attn_sums,\n",
    "    plot_mult_attn_sums,\n",
    ")\n",
    "\n",
    "\n",
    "layers = [2, 15, 25]\n",
    "nvqa = nvqa_list[1]\n",
    "vqa_means = vqa.mean(dim=0)\n",
    "nvqa_means = nvqa.mean(dim=0)\n",
    "diffs = (vqa - nvqa).abs()\n",
    "figsize = (8, 4)\n",
    "kwargs = {\"n_img_tokens\": n_img_tokens, \"figsize\": figsize, \"layers\": layers}\n",
    "plot_mult_attn_sums(\n",
    "    None, None, mult_attn_sums=vqa_means[layers], stds=vqa.std(dim=0)[layers], **kwargs\n",
    ").show()\n",
    "plot_mult_attn_sums(\n",
    "    None,\n",
    "    None,\n",
    "    mult_attn_sums=nvqa_means[layers],\n",
    "    stds=nvqa.std(dim=0)[layers],\n",
    "    **kwargs,\n",
    ").show()\n",
    "plot_mult_attn_sums(\n",
    "    None,\n",
    "    None,\n",
    "    mult_attn_sums=diffs.mean(dim=0)[layers],\n",
    "    stds=diffs.std(dim=0)[layers],\n",
    "    **kwargs,\n",
    "    vmax=diffs.max(),\n",
    "    color_threshold=0.15,\n",
    "    cmap=\"Reds\",\n",
    ").show()"
   ]
  }
 ],
 "metadata": {
  "kernelspec": {
   "display_name": "venv",
   "language": "python",
   "name": "python3"
  },
  "language_info": {
   "codemirror_mode": {
    "name": "ipython",
    "version": 3
   },
   "file_extension": ".py",
   "mimetype": "text/x-python",
   "name": "python",
   "nbconvert_exporter": "python",
   "pygments_lexer": "ipython3",
   "version": "3.11.9"
  }
 },
 "nbformat": 4,
 "nbformat_minor": 2
}
