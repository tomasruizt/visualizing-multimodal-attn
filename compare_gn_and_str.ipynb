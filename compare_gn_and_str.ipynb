{
 "cells": [
  {
   "cell_type": "code",
   "execution_count": null,
   "metadata": {},
   "outputs": [],
   "source": [
    "%load_ext autoreload\n",
    "%autoreload 2\n",
    "import torch\n",
    "from transformers import PaliGemmaProcessor, PaliGemmaForConditionalGeneration\n",
    "\n",
    "torch.set_grad_enabled(False)  # avoid blowing up mem\n",
    "device = \"cuda\"\n",
    "model_id = \"google/paligemma2-3b-pt-224\"\n",
    "model = (\n",
    "    PaliGemmaForConditionalGeneration.from_pretrained(\n",
    "        model_id, torch_dtype=torch.bfloat16\n",
    "    )\n",
    "    .to(device)\n",
    "    .eval()\n",
    ")\n",
    "processor = PaliGemmaProcessor.from_pretrained(model_id)"
   ]
  },
  {
   "cell_type": "code",
   "execution_count": null,
   "metadata": {},
   "outputs": [],
   "source": [
    "from getAttentionLib import (\n",
    "    compute_mult_attn_sums_over_noisy_vqa,\n",
    "    compute_mult_attn_sums_over_vqa,\n",
    ")\n",
    "\n",
    "n_img_tokens = 256\n",
    "n_vqa_samples = 20 # 1000\n",
    "layers = list(range(26))\n",
    "vqa, _, vqa_responses = compute_mult_attn_sums_over_vqa(\n",
    "    model, processor, n_vqa_samples, layers, n_img_tokens\n",
    ")\n",
    "nvqa = compute_mult_attn_sums_over_noisy_vqa(\n",
    "    model, processor, n_vqa_samples, layers, n_img_tokens\n",
    ")"
   ]
  },
  {
   "cell_type": "code",
   "execution_count": null,
   "metadata": {},
   "outputs": [],
   "source": [
    "vqa.shape, nvqa.shape"
   ]
  },
  {
   "cell_type": "code",
   "execution_count": null,
   "metadata": {},
   "outputs": [],
   "source": [
    "n_examples, n_layers = vqa.shape[:2]\n",
    "kls = torch.zeros(n_examples, n_layers)\n",
    "for i in range(n_examples):\n",
    "    for j in range(n_layers):\n",
    "        vqa_distr = vqa[i, j].flatten()\n",
    "        nvqa_distr = nvqa[i, j].flatten()\n",
    "        kl = torch.nn.functional.kl_div(input=torch.log(nvqa_distr), target=vqa_distr)\n",
    "        kls[i, j] = kl\n",
    "kls.shape"
   ]
  },
  {
   "cell_type": "code",
   "execution_count": null,
   "metadata": {},
   "outputs": [],
   "source": [
    "import matplotlib.pyplot as plt\n",
    "\n",
    "from getAttentionLib import plot_metric_with_std_over_layers\n",
    "\n",
    "fig = plot_metric_with_std_over_layers(metric=kls, ylabel=\"KL(vqa || GN vqa)\")\n",
    "fig.savefig(\"imgs/gn_vs_str_comparison/kls_over_layers.png\")"
   ]
  },
  {
   "cell_type": "code",
   "execution_count": null,
   "metadata": {},
   "outputs": [],
   "source": [
    "vqa.std(dim=0).shape"
   ]
  },
  {
   "cell_type": "code",
   "execution_count": null,
   "metadata": {},
   "outputs": [],
   "source": [
    "from getAttentionLib import (\n",
    "    compute_attn_sums,\n",
    "    compute_mult_attn_sums,\n",
    "    plot_mult_attn_sums,\n",
    ")\n",
    "\n",
    "\n",
    "layers = [0, 1, 25]\n",
    "vqa_means = vqa.mean(dim=0)\n",
    "nvqa_means = nvqa.mean(dim=0)\n",
    "diffs = (vqa - nvqa).abs()\n",
    "figsize = (8, 4)\n",
    "kwargs = {\"n_img_tokens\": n_img_tokens, \"figsize\": figsize, \"layers\": layers}\n",
    "plot_mult_attn_sums(\n",
    "    None, None, mult_attn_sums=vqa_means[layers], stds=vqa.std(dim=0)[layers], **kwargs\n",
    ").show()\n",
    "plot_mult_attn_sums(\n",
    "    None,\n",
    "    None,\n",
    "    mult_attn_sums=nvqa_means[layers],\n",
    "    stds=nvqa.std(dim=0)[layers],\n",
    "    **kwargs,\n",
    ").show()\n",
    "plot_mult_attn_sums(\n",
    "    None,\n",
    "    None,\n",
    "    mult_attn_sums=diffs.mean(dim=0)[layers],\n",
    "    stds=diffs.std(dim=0)[layers],\n",
    "    **kwargs,\n",
    "    vmax=diffs.max(),\n",
    "    color_threshold=0.15,\n",
    "    cmap=\"Reds\",\n",
    ").show()"
   ]
  }
 ],
 "metadata": {
  "kernelspec": {
   "display_name": "venv",
   "language": "python",
   "name": "python3"
  },
  "language_info": {
   "codemirror_mode": {
    "name": "ipython",
    "version": 3
   },
   "file_extension": ".py",
   "mimetype": "text/x-python",
   "name": "python",
   "nbconvert_exporter": "python",
   "pygments_lexer": "ipython3",
   "version": "3.11.9"
  }
 },
 "nbformat": 4,
 "nbformat_minor": 2
}
